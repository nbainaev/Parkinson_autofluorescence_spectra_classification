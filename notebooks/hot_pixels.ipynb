{
 "cells": [
  {
   "cell_type": "code",
   "execution_count": 2,
   "metadata": {},
   "outputs": [],
   "source": [
    "import matplotlib.pyplot as plt\n",
    "import pandas as pd\n",
    "import numpy as np\n",
    "df = pd.read_excel(\"C:\\\\Users\\\\nikba\\\\.vscode\\\\Projects\\\\Scientific_work\\\\data\\\\hot_pixels.xlsx\")\n",
    "df = df[[\"Лазер\",\"процентиль %\"]]\n",
    "df.dropna(inplace=True)"
   ]
  },
  {
   "cell_type": "code",
   "execution_count": 2,
   "metadata": {},
   "outputs": [
    {
     "data": {
      "text/html": [
       "<div>\n",
       "<style scoped>\n",
       "    .dataframe tbody tr th:only-of-type {\n",
       "        vertical-align: middle;\n",
       "    }\n",
       "\n",
       "    .dataframe tbody tr th {\n",
       "        vertical-align: top;\n",
       "    }\n",
       "\n",
       "    .dataframe thead th {\n",
       "        text-align: right;\n",
       "    }\n",
       "</style>\n",
       "<table border=\"1\" class=\"dataframe\">\n",
       "  <thead>\n",
       "    <tr style=\"text-align: right;\">\n",
       "      <th></th>\n",
       "      <th>Лазер</th>\n",
       "      <th>процентиль %</th>\n",
       "    </tr>\n",
       "  </thead>\n",
       "  <tbody>\n",
       "    <tr>\n",
       "      <th>1</th>\n",
       "      <td>550.9914</td>\n",
       "      <td>245508.70</td>\n",
       "    </tr>\n",
       "    <tr>\n",
       "      <th>2</th>\n",
       "      <td>551.0832</td>\n",
       "      <td>248498.70</td>\n",
       "    </tr>\n",
       "    <tr>\n",
       "      <th>3</th>\n",
       "      <td>551.1750</td>\n",
       "      <td>248888.70</td>\n",
       "    </tr>\n",
       "    <tr>\n",
       "      <th>4</th>\n",
       "      <td>551.2668</td>\n",
       "      <td>246128.70</td>\n",
       "    </tr>\n",
       "    <tr>\n",
       "      <th>5</th>\n",
       "      <td>551.3586</td>\n",
       "      <td>246212.70</td>\n",
       "    </tr>\n",
       "    <tr>\n",
       "      <th>...</th>\n",
       "      <td>...</td>\n",
       "      <td>...</td>\n",
       "    </tr>\n",
       "    <tr>\n",
       "      <th>2037</th>\n",
       "      <td>719.8205</td>\n",
       "      <td>34606.73</td>\n",
       "    </tr>\n",
       "    <tr>\n",
       "      <th>2038</th>\n",
       "      <td>719.8934</td>\n",
       "      <td>34302.73</td>\n",
       "    </tr>\n",
       "    <tr>\n",
       "      <th>2039</th>\n",
       "      <td>719.9664</td>\n",
       "      <td>33148.73</td>\n",
       "    </tr>\n",
       "    <tr>\n",
       "      <th>2040</th>\n",
       "      <td>720.0392</td>\n",
       "      <td>32800.73</td>\n",
       "    </tr>\n",
       "    <tr>\n",
       "      <th>2041</th>\n",
       "      <td>720.1121</td>\n",
       "      <td>33260.73</td>\n",
       "    </tr>\n",
       "  </tbody>\n",
       "</table>\n",
       "<p>2041 rows × 2 columns</p>\n",
       "</div>"
      ],
      "text/plain": [
       "         Лазер  процентиль %\n",
       "1     550.9914     245508.70\n",
       "2     551.0832     248498.70\n",
       "3     551.1750     248888.70\n",
       "4     551.2668     246128.70\n",
       "5     551.3586     246212.70\n",
       "...        ...           ...\n",
       "2037  719.8205      34606.73\n",
       "2038  719.8934      34302.73\n",
       "2039  719.9664      33148.73\n",
       "2040  720.0392      32800.73\n",
       "2041  720.1121      33260.73\n",
       "\n",
       "[2041 rows x 2 columns]"
      ]
     },
     "execution_count": 2,
     "metadata": {},
     "output_type": "execute_result"
    }
   ],
   "source": [
    "df"
   ]
  },
  {
   "cell_type": "code",
   "execution_count": 3,
   "metadata": {},
   "outputs": [
    {
     "data": {
      "text/plain": [
       "array([245508.7 , 248498.7 , 248888.7 , ...,  33148.73,  32800.73,\n",
       "        33260.73], shape=(2041,))"
      ]
     },
     "execution_count": 3,
     "metadata": {},
     "output_type": "execute_result"
    }
   ],
   "source": [
    "df[\"процентиль %\"].to_numpy()"
   ]
  },
  {
   "cell_type": "code",
   "execution_count": 48,
   "metadata": {},
   "outputs": [
    {
     "name": "stderr",
     "output_type": "stream",
     "text": [
      "C:\\Users\\nikba\\AppData\\Local\\Temp\\ipykernel_14456\\2060501957.py:2: SettingWithCopyWarning: \n",
      "A value is trying to be set on a copy of a slice from a DataFrame\n",
      "\n",
      "See the caveats in the documentation: https://pandas.pydata.org/pandas-docs/stable/user_guide/indexing.html#returning-a-view-versus-a-copy\n",
      "  df.dropna(inplace=True)\n"
     ]
    },
    {
     "data": {
      "text/plain": [
       "np.float64(3635580.0)"
      ]
     },
     "execution_count": 48,
     "metadata": {},
     "output_type": "execute_result"
    }
   ],
   "source": [
    "df = df[[\"Лазер\",\"процентиль %\"]]\n",
    "df.dropna(inplace=True)\n",
    "percentile = 90\n",
    "idx = df.index\n",
    "filt = [0]\n",
    "for i in range(1, len(idx)-1):\n",
    "    x_1 = df[\"процентиль %\"].loc[idx[i-1]]\n",
    "    x_2 = df[\"процентиль %\"].loc[idx[i]]\n",
    "    x_3 = df[\"процентиль %\"].loc[idx[i+1]]\n",
    "    filt.append(abs((x_2 - x_1) * (x_3 - x_2)))\n",
    "filt.append(0)\n",
    "df[\"фильтр\"] = filt\n",
    "raman_perc = df[\"фильтр\"].quantile(percentile/100)\n",
    "raman_perc"
   ]
  },
  {
   "cell_type": "code",
   "execution_count": 49,
   "metadata": {},
   "outputs": [],
   "source": [
    "filtered_raman = []\n",
    "window = 2\n",
    "for i in range(len(idx)):\n",
    "    if df[\"фильтр\"].loc[idx[i]] < raman_perc:\n",
    "        filtered_raman.append(df[\"процентиль %\"].loc[idx[i]])\n",
    "    else:\n",
    "        x1 = df[\"процентиль %\"].loc[i - window]\n",
    "        x2 = df[\"процентиль %\"].loc[i + window]\n",
    "        filtered_raman.append((x1 + x2) / 2)\n",
    "df[\"обработанный\"] =  filtered_raman"
   ]
  },
  {
   "cell_type": "code",
   "execution_count": 67,
   "metadata": {},
   "outputs": [],
   "source": [
    "def delete_hot_pixels(arr: list, q=0.95, window = 3):\n",
    "    buf_arr = pd.Series(np.array([]))\n",
    "    for i in range(1, len(arr) - 1):\n",
    "        x1 = arr[i-1]\n",
    "        x2 = arr[i]\n",
    "        x3 = arr[i+1]\n",
    "        buf_arr[i] = abs((x2-x1)*(x3-x2))\n",
    "    q_value = buf_arr.quantile(q)\n",
    "    print(q_value)\n",
    "    filtered_arr = [arr[0]]\n",
    "    for i in range(1, len(arr)-1):\n",
    "        if buf_arr[i] > q_value:\n",
    "            filtered_arr.append((arr[i-window] + arr[i+window]) / 2)\n",
    "        else:\n",
    "            filtered_arr.append(arr[i])\n",
    "    filtered_arr.append(arr[-1])\n",
    "    return filtered_arr"
   ]
  },
  {
   "cell_type": "code",
   "execution_count": 74,
   "metadata": {},
   "outputs": [
    {
     "name": "stdout",
     "output_type": "stream",
     "text": [
      "3644320.000000002\n"
     ]
    }
   ],
   "source": [
    "filt = delete_hot_pixels(df[\"процентиль %\"].to_list(), q=0.90, window=3)"
   ]
  },
  {
   "cell_type": "code",
   "execution_count": 75,
   "metadata": {},
   "outputs": [],
   "source": [
    "df[\"обработанный\"] = filt"
   ]
  },
  {
   "cell_type": "code",
   "execution_count": 76,
   "metadata": {},
   "outputs": [
    {
     "data": {
      "text/plain": [
       "[<matplotlib.lines.Line2D at 0x19f52eadd10>]"
      ]
     },
     "execution_count": 76,
     "metadata": {},
     "output_type": "execute_result"
    },
    {
     "data": {
      "image/png": "[encoded data removed]",
      "text/plain": [
       "<Figure size 640x480 with 1 Axes>"
      ]
     },
     "metadata": {},
     "output_type": "display_data"
    }
   ],
   "source": [
    "plt.plot(df[\"Лазер\"], df[\"процентиль %\"])\n",
    "plt.plot(df[\"Лазер\"], df[\"обработанный\"])"
   ]
  }
 ],
 "metadata": {
  "kernelspec": {
   "display_name": ".venv",
   "language": "python",
   "name": "python3"
  },
  "language_info": {
   "codemirror_mode": {
    "name": "ipython",
    "version": 3
   },
   "file_extension": ".py",
   "mimetype": "text/x-python",
   "name": "python",
   "nbconvert_exporter": "python",
   "pygments_lexer": "ipython3",
   "version": "3.13.2"
  }
 },
 "nbformat": 4,
 "nbformat_minor": 2
}
